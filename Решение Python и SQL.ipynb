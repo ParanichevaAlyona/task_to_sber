{
 "cells": [
  {
   "cell_type": "markdown",
   "metadata": {},
   "source": [
    "## Часть 1: Python\n",
    "    \n",
    "### 1.Задание:\n",
    "\n",
    "- Загрузить данные из файла в DataFrame.\n",
    "- Посчитать общую сумму продаж.\n",
    "- Найти товар с максимальной и минимальной суммой продаж.\n",
    "- Рассчитать среднюю сумму продаж.\n",
    "- Создать столбец с датой продажи в формате год-месяц-день.\n",
    "- Сохранить результаты в новый файл CSV."
   ]
  },
  {
   "cell_type": "markdown",
   "metadata": {},
   "source": [
    "Подключаем нужные библиотеки"
   ]
  },
  {
   "cell_type": "code",
   "execution_count": 1,
   "metadata": {},
   "outputs": [],
   "source": [
    "import numpy as np\n",
    "import pandas as pd"
   ]
  },
  {
   "cell_type": "markdown",
   "metadata": {
    "collapsed": true
   },
   "source": [
    "- Загрузить данные из файла в DataFrame.\n",
    "\n",
    "Некоторые параметры, стоящие по умолчанию, не подошли:\n",
    "\n",
    "Разделитель в данном файле это ';', а кодировка - 'windows-1251'"
   ]
  },
  {
   "cell_type": "code",
   "execution_count": 2,
   "metadata": {},
   "outputs": [],
   "source": [
    "df = pd.read_csv('Данные о продаже товаров.csv', encoding='windows-1251', delimiter=';')"
   ]
  },
  {
   "cell_type": "markdown",
   "metadata": {},
   "source": [
    "- Посчитать общую сумму продаж.\n",
    "\n",
    "Вывожу, какие столбцы есть, чтобы иметь представление о содержимом таблицы"
   ]
  },
  {
   "cell_type": "code",
   "execution_count": 4,
   "metadata": {},
   "outputs": [
    {
     "name": "stdout",
     "output_type": "stream",
     "text": [
      "<class 'pandas.core.frame.DataFrame'>\n",
      "RangeIndex: 65 entries, 0 to 64\n",
      "Data columns (total 58 columns):\n",
      " #   Column                                   Non-Null Count  Dtype  \n",
      "---  ------                                   --------------  -----  \n",
      " 0   Категория                                65 non-null     object \n",
      " 1   Подкатегория 2                           65 non-null     object \n",
      " 2   Подкатегория 3                           65 non-null     object \n",
      " 3   Артикул                                  65 non-null     int64  \n",
      " 4   Артикул модификации                      0 non-null      float64\n",
      " 5   Имя товара                               65 non-null     object \n",
      " 6   Категория (полный путь)                  65 non-null     object \n",
      " 7   Цена                                     65 non-null     object \n",
      " 8   Дата продажи                             65 non-null     object \n",
      " 9   Цена старая                              0 non-null      float64\n",
      " 10  Цена закупки                             0 non-null      float64\n",
      " 11  Количество                               65 non-null     int64  \n",
      " 12  Описание                                 65 non-null     object \n",
      " 13  Краткое описание                         0 non-null      float64\n",
      " 14  Производитель                            65 non-null     object \n",
      " 15  Вес                                      65 non-null     int64  \n",
      " 16  Meta title                               0 non-null      float64\n",
      " 17  Meta keywords                            0 non-null      float64\n",
      " 18  Meta description                         0 non-null      float64\n",
      " 19  Фото (через пробел)                      65 non-null     object \n",
      " 20  Ссылки на фото (через пробел)            65 non-null     object \n",
      " 21  Ссылка на товар на источнике             65 non-null     object \n",
      " 22  Характеристики (HTML/Table)              65 non-null     object \n",
      " 23  Вид                                      33 non-null     object \n",
      " 24  Тип                                      65 non-null     object \n",
      " 25  Интерфейс подключения                    34 non-null     object \n",
      " 26  Количество каналов                       34 non-null     object \n",
      " 27  Аудиочип                                 26 non-null     object \n",
      " 28  Поддержка стандартов                     20 non-null     object \n",
      " 29  Поддержка ASIO                           17 non-null     object \n",
      " 30  Разрядность                              34 non-null     object \n",
      " 31  Макс. частота дискретизации              34 non-null     object \n",
      " 32  Соотношение сигнал/шум                   27 non-null     object \n",
      " 33  Дополнительно                            18 non-null     object \n",
      " 34  mini-Jack (3.5 мм)                       30 non-null     object \n",
      " 35  Оптический S/P-DIF                       16 non-null     object \n",
      " 36  RCA                                      8 non-null      object \n",
      " 37  Поддержка Mac                            11 non-null     object \n",
      " 38  Дополнительное питание                   4 non-null      object \n",
      " 39  Динамический диапазон                    5 non-null      object \n",
      " 40  Коаксиальный S/P-DIF                     8 non-null      float64\n",
      " 41  Jack (6.35 мм)                           4 non-null      object \n",
      " 42  Для iPhone/iPod/iPad                     2 non-null      object \n",
      " 43  MIDI                                     3 non-null      object \n",
      " 44  Поколение связи                          31 non-null     object \n",
      " 45  Технология передачи                      31 non-null     object \n",
      " 46  Оператор (провайдер)                     31 non-null     object \n",
      " 47  Функции/возможности                      31 non-null     object \n",
      " 48  Подключение и разъемы                    31 non-null     object \n",
      " 49  Питание                                  31 non-null     object \n",
      " 50  Габариты                                 28 non-null     object \n",
      " 51  Вес.1                                    23 non-null     object \n",
      " 52  Скорость подключения Wi-Fi               24 non-null     object \n",
      " 53  Радиус действия                          3 non-null      object \n",
      " 54  Кол-во подключаемых устройств            18 non-null     float64\n",
      " 55  Ёмкость аккумулятора                     17 non-null     object \n",
      " 56  Время работы в режиме интернет-серфинга  11 non-null     object \n",
      " 57  Время работы в режиме ожидания           7 non-null      object \n",
      "dtypes: float64(9), int64(3), object(46)\n",
      "memory usage: 29.6+ KB\n"
     ]
    }
   ],
   "source": [
    "df.info()"
   ]
  },
  {
   "cell_type": "markdown",
   "metadata": {},
   "source": [
    "Считаем общую сумму продаж по столбцу Количество"
   ]
  },
  {
   "cell_type": "code",
   "execution_count": 5,
   "metadata": {},
   "outputs": [
    {
     "data": {
      "text/plain": [
       "547"
      ]
     },
     "execution_count": 5,
     "metadata": {},
     "output_type": "execute_result"
    }
   ],
   "source": [
    "df['Количество'].sum()"
   ]
  },
  {
   "cell_type": "markdown",
   "metadata": {},
   "source": [
    "Количество продаж = 547"
   ]
  },
  {
   "cell_type": "markdown",
   "metadata": {},
   "source": [
    "- Найти товар с максимальной и минимальной суммой продаж.\n",
    "\n",
    "Разобъем товары по Имени товара и посчитаем максимальное и минимальное число продаж"
   ]
  },
  {
   "cell_type": "markdown",
   "metadata": {},
   "source": [
    "Максимальная сумма продаж = 15"
   ]
  },
  {
   "cell_type": "code",
   "execution_count": 6,
   "metadata": {},
   "outputs": [
    {
     "data": {
      "text/plain": [
       "Имя товара    Модем ZTE MF93D\n",
       "Количество                 15\n",
       "dtype: object"
      ]
     },
     "execution_count": 6,
     "metadata": {},
     "output_type": "execute_result"
    }
   ],
   "source": [
    "df[['Имя товара', 'Количество']].max()"
   ]
  },
  {
   "cell_type": "markdown",
   "metadata": {},
   "source": [
    "Минимальная сумма продаж = 2"
   ]
  },
  {
   "cell_type": "code",
   "execution_count": 7,
   "metadata": {},
   "outputs": [
    {
     "data": {
      "text/plain": [
       "Имя товара    Звуковая карта Asus Xonar AE\n",
       "Количество                               2\n",
       "dtype: object"
      ]
     },
     "execution_count": 7,
     "metadata": {},
     "output_type": "execute_result"
    }
   ],
   "source": [
    "df[['Имя товара', 'Количество']].min()"
   ]
  },
  {
   "cell_type": "markdown",
   "metadata": {},
   "source": [
    "- Рассчитать среднюю сумму продаж."
   ]
  },
  {
   "cell_type": "code",
   "execution_count": 8,
   "metadata": {},
   "outputs": [
    {
     "data": {
      "text/plain": [
       "8.415384615384616"
      ]
     },
     "execution_count": 8,
     "metadata": {},
     "output_type": "execute_result"
    }
   ],
   "source": [
    "df['Количество'].mean()"
   ]
  },
  {
   "cell_type": "markdown",
   "metadata": {},
   "source": [
    "- Создать столбец с датой продажи в формате год-месяц-день.\n"
   ]
  },
  {
   "cell_type": "code",
   "execution_count": 9,
   "metadata": {},
   "outputs": [],
   "source": [
    "new_format_data = pd.to_datetime(df['Дата продажи'], dayfirst=True)"
   ]
  },
  {
   "cell_type": "code",
   "execution_count": 10,
   "metadata": {},
   "outputs": [
    {
     "data": {
      "text/plain": [
       "0    2019-12-29\n",
       "1    2019-10-01\n",
       "2    2020-06-22\n",
       "3    2022-07-04\n",
       "4    2018-01-13\n",
       "        ...    \n",
       "60   2021-04-14\n",
       "61   2019-11-27\n",
       "62   2020-08-13\n",
       "63   2020-09-30\n",
       "64   2019-10-14\n",
       "Name: Дата продажи, Length: 65, dtype: datetime64[ns]"
      ]
     },
     "execution_count": 10,
     "metadata": {},
     "output_type": "execute_result"
    }
   ],
   "source": [
    "new_format_data"
   ]
  },
  {
   "cell_type": "code",
   "execution_count": 11,
   "metadata": {},
   "outputs": [],
   "source": [
    "df.insert(loc=9, column='Дата продажи гмд', value=new_format_data)"
   ]
  },
  {
   "cell_type": "markdown",
   "metadata": {},
   "source": [
    "Проверяем, что вставка столбца прошла успешно"
   ]
  },
  {
   "cell_type": "code",
   "execution_count": 12,
   "metadata": {},
   "outputs": [
    {
     "data": {
      "text/plain": [
       "0    2019-12-29\n",
       "1    2019-10-01\n",
       "2    2020-06-22\n",
       "3    2022-07-04\n",
       "4    2018-01-13\n",
       "        ...    \n",
       "60   2021-04-14\n",
       "61   2019-11-27\n",
       "62   2020-08-13\n",
       "63   2020-09-30\n",
       "64   2019-10-14\n",
       "Name: Дата продажи гмд, Length: 65, dtype: datetime64[ns]"
      ]
     },
     "execution_count": 12,
     "metadata": {},
     "output_type": "execute_result"
    }
   ],
   "source": [
    "df['Дата продажи гмд']"
   ]
  },
  {
   "cell_type": "markdown",
   "metadata": {},
   "source": [
    "- Сохранить результаты в новый файл CSV."
   ]
  },
  {
   "cell_type": "code",
   "execution_count": 13,
   "metadata": {},
   "outputs": [],
   "source": [
    "df.to_csv('./Данные о продаже товаров2.csv', index= False )"
   ]
  },
  {
   "cell_type": "markdown",
   "metadata": {},
   "source": [
    "### 2.Задание:\n",
    "\n",
    "- Загрузить данные из файла в DataFrame.\n",
    "- Построить график, отображающий количество продаж по месяцам.\n",
    "- Рассчитать общее количество продаж для каждого месяца.\n",
    "- Найти месяц с наибольшим и наименьшим количеством продаж.\n",
    "- Сохранить график в файл формата PNG."
   ]
  },
  {
   "cell_type": "markdown",
   "metadata": {},
   "source": [
    "- Загрузить данные из файла в DataFrame.\n",
    "\n",
    "Загружаем данные из нового файла о продаже товаров"
   ]
  },
  {
   "cell_type": "code",
   "execution_count": 14,
   "metadata": {},
   "outputs": [
    {
     "data": {
      "text/html": [
       "<div>\n",
       "<style scoped>\n",
       "    .dataframe tbody tr th:only-of-type {\n",
       "        vertical-align: middle;\n",
       "    }\n",
       "\n",
       "    .dataframe tbody tr th {\n",
       "        vertical-align: top;\n",
       "    }\n",
       "\n",
       "    .dataframe thead th {\n",
       "        text-align: right;\n",
       "    }\n",
       "</style>\n",
       "<table border=\"1\" class=\"dataframe\">\n",
       "  <thead>\n",
       "    <tr style=\"text-align: right;\">\n",
       "      <th></th>\n",
       "      <th>Категория</th>\n",
       "      <th>Подкатегория 2</th>\n",
       "      <th>Подкатегория 3</th>\n",
       "      <th>Артикул</th>\n",
       "      <th>Артикул модификации</th>\n",
       "      <th>Имя товара</th>\n",
       "      <th>Категория (полный путь)</th>\n",
       "      <th>Цена</th>\n",
       "      <th>Дата продажи</th>\n",
       "      <th>Дата продажи гмд</th>\n",
       "      <th>...</th>\n",
       "      <th>Подключение и разъемы</th>\n",
       "      <th>Питание</th>\n",
       "      <th>Габариты</th>\n",
       "      <th>Вес.1</th>\n",
       "      <th>Скорость подключения Wi-Fi</th>\n",
       "      <th>Радиус действия</th>\n",
       "      <th>Кол-во подключаемых устройств</th>\n",
       "      <th>Ёмкость аккумулятора</th>\n",
       "      <th>Время работы в режиме интернет-серфинга</th>\n",
       "      <th>Время работы в режиме ожидания</th>\n",
       "    </tr>\n",
       "  </thead>\n",
       "  <tbody>\n",
       "    <tr>\n",
       "      <th>0</th>\n",
       "      <td>Компьютерная техника</td>\n",
       "      <td>Комплектующие</td>\n",
       "      <td>Звуковые карты</td>\n",
       "      <td>356165</td>\n",
       "      <td>NaN</td>\n",
       "      <td>Звуковая карта Creative Sound Blaster Z</td>\n",
       "      <td>Компьютерная техника-&gt;Комплектующие-&gt;Звуковые ...</td>\n",
       "      <td>5907</td>\n",
       "      <td>29.12.2019</td>\n",
       "      <td>2019-12-29</td>\n",
       "      <td>...</td>\n",
       "      <td>NaN</td>\n",
       "      <td>NaN</td>\n",
       "      <td>NaN</td>\n",
       "      <td>NaN</td>\n",
       "      <td>NaN</td>\n",
       "      <td>NaN</td>\n",
       "      <td>NaN</td>\n",
       "      <td>NaN</td>\n",
       "      <td>NaN</td>\n",
       "      <td>NaN</td>\n",
       "    </tr>\n",
       "    <tr>\n",
       "      <th>1</th>\n",
       "      <td>Компьютерная техника</td>\n",
       "      <td>Комплектующие</td>\n",
       "      <td>Звуковые карты</td>\n",
       "      <td>345995</td>\n",
       "      <td>NaN</td>\n",
       "      <td>Звуковая карта Asus Xonar DG</td>\n",
       "      <td>Компьютерная техника-&gt;Комплектующие-&gt;Звуковые ...</td>\n",
       "      <td>2200</td>\n",
       "      <td>01.10.2019</td>\n",
       "      <td>2019-10-01</td>\n",
       "      <td>...</td>\n",
       "      <td>NaN</td>\n",
       "      <td>NaN</td>\n",
       "      <td>NaN</td>\n",
       "      <td>NaN</td>\n",
       "      <td>NaN</td>\n",
       "      <td>NaN</td>\n",
       "      <td>NaN</td>\n",
       "      <td>NaN</td>\n",
       "      <td>NaN</td>\n",
       "      <td>NaN</td>\n",
       "    </tr>\n",
       "    <tr>\n",
       "      <th>2</th>\n",
       "      <td>Компьютерная техника</td>\n",
       "      <td>Комплектующие</td>\n",
       "      <td>Звуковые карты</td>\n",
       "      <td>346030</td>\n",
       "      <td>NaN</td>\n",
       "      <td>Звуковая карта Asus Xonar DGX</td>\n",
       "      <td>Компьютерная техника-&gt;Комплектующие-&gt;Звуковые ...</td>\n",
       "      <td>2605,9</td>\n",
       "      <td>22.06.2020</td>\n",
       "      <td>2020-06-22</td>\n",
       "      <td>...</td>\n",
       "      <td>NaN</td>\n",
       "      <td>NaN</td>\n",
       "      <td>NaN</td>\n",
       "      <td>NaN</td>\n",
       "      <td>NaN</td>\n",
       "      <td>NaN</td>\n",
       "      <td>NaN</td>\n",
       "      <td>NaN</td>\n",
       "      <td>NaN</td>\n",
       "      <td>NaN</td>\n",
       "    </tr>\n",
       "    <tr>\n",
       "      <th>3</th>\n",
       "      <td>Компьютерная техника</td>\n",
       "      <td>Комплектующие</td>\n",
       "      <td>Звуковые карты</td>\n",
       "      <td>346235</td>\n",
       "      <td>NaN</td>\n",
       "      <td>Звуковая карта Creative Sound Blaster X-Fi Sur...</td>\n",
       "      <td>Компьютерная техника-&gt;Комплектующие-&gt;Звуковые ...</td>\n",
       "      <td>4216,3</td>\n",
       "      <td>04.07.2022</td>\n",
       "      <td>2022-07-04</td>\n",
       "      <td>...</td>\n",
       "      <td>NaN</td>\n",
       "      <td>NaN</td>\n",
       "      <td>NaN</td>\n",
       "      <td>NaN</td>\n",
       "      <td>NaN</td>\n",
       "      <td>NaN</td>\n",
       "      <td>NaN</td>\n",
       "      <td>NaN</td>\n",
       "      <td>NaN</td>\n",
       "      <td>NaN</td>\n",
       "    </tr>\n",
       "    <tr>\n",
       "      <th>4</th>\n",
       "      <td>Компьютерная техника</td>\n",
       "      <td>Комплектующие</td>\n",
       "      <td>Звуковые карты</td>\n",
       "      <td>347574</td>\n",
       "      <td>NaN</td>\n",
       "      <td>Звуковая карта Creative Sound Blaster Audigy Rx</td>\n",
       "      <td>Компьютерная техника-&gt;Комплектующие-&gt;Звуковые ...</td>\n",
       "      <td>4631</td>\n",
       "      <td>13.01.2018</td>\n",
       "      <td>2018-01-13</td>\n",
       "      <td>...</td>\n",
       "      <td>NaN</td>\n",
       "      <td>NaN</td>\n",
       "      <td>NaN</td>\n",
       "      <td>NaN</td>\n",
       "      <td>NaN</td>\n",
       "      <td>NaN</td>\n",
       "      <td>NaN</td>\n",
       "      <td>NaN</td>\n",
       "      <td>NaN</td>\n",
       "      <td>NaN</td>\n",
       "    </tr>\n",
       "  </tbody>\n",
       "</table>\n",
       "<p>5 rows × 59 columns</p>\n",
       "</div>"
      ],
      "text/plain": [
       "              Категория Подкатегория 2  Подкатегория 3  Артикул  \\\n",
       "0  Компьютерная техника  Комплектующие  Звуковые карты   356165   \n",
       "1  Компьютерная техника  Комплектующие  Звуковые карты   345995   \n",
       "2  Компьютерная техника  Комплектующие  Звуковые карты   346030   \n",
       "3  Компьютерная техника  Комплектующие  Звуковые карты   346235   \n",
       "4  Компьютерная техника  Комплектующие  Звуковые карты   347574   \n",
       "\n",
       "   Артикул модификации                                         Имя товара  \\\n",
       "0                  NaN            Звуковая карта Creative Sound Blaster Z   \n",
       "1                  NaN                       Звуковая карта Asus Xonar DG   \n",
       "2                  NaN                      Звуковая карта Asus Xonar DGX   \n",
       "3                  NaN  Звуковая карта Creative Sound Blaster X-Fi Sur...   \n",
       "4                  NaN    Звуковая карта Creative Sound Blaster Audigy Rx   \n",
       "\n",
       "                             Категория (полный путь)    Цена Дата продажи  \\\n",
       "0  Компьютерная техника->Комплектующие->Звуковые ...    5907   29.12.2019   \n",
       "1  Компьютерная техника->Комплектующие->Звуковые ...    2200   01.10.2019   \n",
       "2  Компьютерная техника->Комплектующие->Звуковые ...  2605,9   22.06.2020   \n",
       "3  Компьютерная техника->Комплектующие->Звуковые ...  4216,3   04.07.2022   \n",
       "4  Компьютерная техника->Комплектующие->Звуковые ...    4631   13.01.2018   \n",
       "\n",
       "  Дата продажи гмд  ...  Подключение и разъемы  Питание  Габариты Вес.1  \\\n",
       "0       2019-12-29  ...                    NaN      NaN       NaN   NaN   \n",
       "1       2019-10-01  ...                    NaN      NaN       NaN   NaN   \n",
       "2       2020-06-22  ...                    NaN      NaN       NaN   NaN   \n",
       "3       2022-07-04  ...                    NaN      NaN       NaN   NaN   \n",
       "4       2018-01-13  ...                    NaN      NaN       NaN   NaN   \n",
       "\n",
       "   Скорость подключения Wi-Fi Радиус действия  Кол-во подключаемых устройств  \\\n",
       "0                         NaN             NaN                            NaN   \n",
       "1                         NaN             NaN                            NaN   \n",
       "2                         NaN             NaN                            NaN   \n",
       "3                         NaN             NaN                            NaN   \n",
       "4                         NaN             NaN                            NaN   \n",
       "\n",
       "   Ёмкость аккумулятора  Время работы в режиме интернет-серфинга  \\\n",
       "0                   NaN                                      NaN   \n",
       "1                   NaN                                      NaN   \n",
       "2                   NaN                                      NaN   \n",
       "3                   NaN                                      NaN   \n",
       "4                   NaN                                      NaN   \n",
       "\n",
       "   Время работы в режиме ожидания  \n",
       "0                             NaN  \n",
       "1                             NaN  \n",
       "2                             NaN  \n",
       "3                             NaN  \n",
       "4                             NaN  \n",
       "\n",
       "[5 rows x 59 columns]"
      ]
     },
     "execution_count": 14,
     "metadata": {},
     "output_type": "execute_result"
    }
   ],
   "source": [
    "df2 = pd.read_csv('Данные о продаже товаров2.csv')\n",
    "df2.head()"
   ]
  },
  {
   "cell_type": "code",
   "execution_count": 15,
   "metadata": {},
   "outputs": [],
   "source": [
    "# Подгружаем библиотеку для визуализации данных\n",
    "import matplotlib.pyplot as plt # Научная графика\n",
    "%matplotlib inline \n",
    "    # Говорим jupyter'у, чтобы весь графический вывод был в браузере, а не в отдельном окне"
   ]
  },
  {
   "cell_type": "markdown",
   "metadata": {},
   "source": [
    "- Построить график, отображающий количество продаж по месяцам."
   ]
  },
  {
   "cell_type": "code",
   "execution_count": 16,
   "metadata": {},
   "outputs": [],
   "source": [
    "month_sales =  df['Дата продажи гмд'].dt.month"
   ]
  },
  {
   "cell_type": "code",
   "execution_count": 17,
   "metadata": {},
   "outputs": [
    {
     "data": {
      "image/png": "[encoded data removed]",
      "text/plain": [
       "<Figure size 432x288 with 1 Axes>"
      ]
     },
     "metadata": {
      "needs_background": "light"
     },
     "output_type": "display_data"
    }
   ],
   "source": [
    "plt.scatter(month_sales, df['Количество'])\n",
    "plt.xlabel(\"Месяц\")\n",
    "plt.ylabel(\"Количество продаж\")\n",
    "pass"
   ]
  },
  {
   "cell_type": "markdown",
   "metadata": {},
   "source": [
    "Видим, что в каждый месяц производились покупки по разным товарам\n",
    "\n",
    "- Рассчитать общее количество продаж для каждого месяца.\n",
    "\n",
    "Посчитаем сумму продаж для каждого месяца"
   ]
  },
  {
   "cell_type": "code",
   "execution_count": 18,
   "metadata": {},
   "outputs": [
    {
     "data": {
      "text/plain": [
       "Дата продажи гмд\n",
       "1     26\n",
       "2     65\n",
       "3     12\n",
       "4     18\n",
       "5     40\n",
       "6     34\n",
       "7     37\n",
       "8     66\n",
       "9     48\n",
       "10    63\n",
       "11    75\n",
       "12    63\n",
       "Name: Количество, dtype: int64"
      ]
     },
     "execution_count": 18,
     "metadata": {},
     "output_type": "execute_result"
    }
   ],
   "source": [
    "sum_month_sales = df['Количество'].groupby(df['Дата продажи гмд'].dt.month).sum()\n",
    "sum_month_sales"
   ]
  },
  {
   "cell_type": "markdown",
   "metadata": {},
   "source": [
    "- Построить график, отображающий количество продаж по месяцам."
   ]
  },
  {
   "cell_type": "code",
   "execution_count": 20,
   "metadata": {},
   "outputs": [
    {
     "data": {
      "image/png": "[encoded data removed]",
      "text/plain": [
       "<Figure size 432x288 with 1 Axes>"
      ]
     },
     "metadata": {
      "needs_background": "light"
     },
     "output_type": "display_data"
    }
   ],
   "source": [
    "plt.plot([1, 2, 3, 4, 5, 6, 7, 8, 9, 10, 11, 12], sum_month_sales, 'b-o')\n",
    "plt.xlabel(\"Месяц\")\n",
    "plt.ylabel(\"Количество продаж\")\n",
    "plt.savefig('Продажи по месяцам.png', facecolor = 'white', dpi = 150)"
   ]
  },
  {
   "cell_type": "markdown",
   "metadata": {},
   "source": [
    "- Найти месяц с наибольшим и наименьшим количеством продаж.\n",
    "\n",
    "Месяц с наибольшим числом продаж"
   ]
  },
  {
   "cell_type": "code",
   "execution_count": 21,
   "metadata": {},
   "outputs": [
    {
     "data": {
      "text/plain": [
       "('Ноябрь', 75)"
      ]
     },
     "execution_count": 21,
     "metadata": {},
     "output_type": "execute_result"
    }
   ],
   "source": [
    "months = [\"Январь\", \"Февраль\", \"Март\", \"Апрель\", \"Май\", \"Июнь\", \"Июль\", \"Август\", \"Сентябрь\", \"Октябрь\", \"Ноябрь\", \"Декабрь\"]\n",
    "months[sum_month_sales.idxmax()-1], sum_month_sales.max()"
   ]
  },
  {
   "cell_type": "markdown",
   "metadata": {},
   "source": [
    "Месяц с наименьшим числом продаж"
   ]
  },
  {
   "cell_type": "code",
   "execution_count": 22,
   "metadata": {},
   "outputs": [
    {
     "data": {
      "text/plain": [
       "('Март', 12)"
      ]
     },
     "execution_count": 22,
     "metadata": {},
     "output_type": "execute_result"
    }
   ],
   "source": [
    "months[sum_month_sales.idxmin()-1], sum_month_sales.min()"
   ]
  },
  {
   "cell_type": "markdown",
   "metadata": {},
   "source": [
    "### 3.Задание:\n",
    "\n",
    "Тема: Работа со списками\n",
    "\n",
    "Ваша задача:\n",
    "\n",
    "- Создайте список из 10 единиц и запишите его в переменную lst\n",
    "- Добавьте к списку lst элемент с типом str 'Строка' в конце списка\n",
    "- Замените элемент списка с индексом 4 на число 189\n",
    "- Добавьте вложенный список  ['a', 'b', 'a', 'hello'] в конец получившегося списка\n",
    "- Вставьте кортеж со значениями 1, 6, 89 на место с индексом -3 (3-й элемент с конца списка)\n",
    "- Выведите значение элемента с индексом 0\n",
    "- Получите значение элемента с индексом -1 (последний элемент списка)\n",
    "- Удалите элемент со значением 189\n",
    "- Посчитайте количество элементов в списке со значением 1"
   ]
  },
  {
   "cell_type": "code",
   "execution_count": 23,
   "metadata": {},
   "outputs": [],
   "source": [
    "# Создайте список из 10 единиц и запишите его в переменную lst\n",
    "lst = [1]*10"
   ]
  },
  {
   "cell_type": "code",
   "execution_count": 24,
   "metadata": {},
   "outputs": [],
   "source": [
    "# Добавьте к списку lst элемент с типом str 'Строка' в конце списка\n",
    "lst.append('Строка')"
   ]
  },
  {
   "cell_type": "code",
   "execution_count": 25,
   "metadata": {},
   "outputs": [],
   "source": [
    "# Замените элемент списка с индексом 4 на число 189\n",
    "lst[4] = 189"
   ]
  },
  {
   "cell_type": "code",
   "execution_count": 26,
   "metadata": {},
   "outputs": [],
   "source": [
    "# Добавьте вложенный список ['a', 'b', 'a', 'hello'] в конец получившегося списка\n",
    "lst.append(['a', 'b', 'a', 'hello'])"
   ]
  },
  {
   "cell_type": "code",
   "execution_count": 27,
   "metadata": {},
   "outputs": [],
   "source": [
    "# Вставьте кортеж со значениями 1, 6, 89 на место с индексом -3\n",
    "lst[-3] = (1, 6, 89)"
   ]
  },
  {
   "cell_type": "code",
   "execution_count": 28,
   "metadata": {},
   "outputs": [
    {
     "data": {
      "text/plain": [
       "[1, 1, 1, 1, 189, 1, 1, 1, 1, (1, 6, 89), 'Строка', ['a', 'b', 'a', 'hello']]"
      ]
     },
     "execution_count": 28,
     "metadata": {},
     "output_type": "execute_result"
    }
   ],
   "source": [
    "lst"
   ]
  },
  {
   "cell_type": "code",
   "execution_count": 29,
   "metadata": {},
   "outputs": [
    {
     "name": "stdout",
     "output_type": "stream",
     "text": [
      "1\n"
     ]
    }
   ],
   "source": [
    "# Выведите значение элемента с индексом 0 \n",
    "print(lst[0])"
   ]
  },
  {
   "cell_type": "code",
   "execution_count": 30,
   "metadata": {},
   "outputs": [],
   "source": [
    "# Получите значение элемента с индексом -1 (последний элемент списка)\n",
    "a = lst[-1]"
   ]
  },
  {
   "cell_type": "code",
   "execution_count": 31,
   "metadata": {},
   "outputs": [],
   "source": [
    "# Удалите элемент со значением 189\n",
    "lst.remove(189)"
   ]
  },
  {
   "cell_type": "code",
   "execution_count": 32,
   "metadata": {},
   "outputs": [
    {
     "data": {
      "text/plain": [
       "8"
      ]
     },
     "execution_count": 32,
     "metadata": {},
     "output_type": "execute_result"
    }
   ],
   "source": [
    "# Посчитайте количество элементов в списке со значением 1\n",
    "number_of_1 = lst.count(1)\n",
    "number_of_1"
   ]
  },
  {
   "cell_type": "markdown",
   "metadata": {},
   "source": [
    "### 4.Задание:\n",
    "    \n",
    "Тема: Работа со списками\n",
    "    \n",
    "Ваша задача: Написать функцию chunks с двумя параметрами a и n.\n",
    "\n",
    "где:\n",
    "\n",
    "a=[1,2,3,'4',5,6,7,'8',9] - список\n",
    "\n",
    "n=4 - количество вложенных списков\n",
    "\n",
    "При вызове функции необходимо получить следующий список [[1, 2, 3], ['4', 5], [6, 7], ['8', 9]]. \n",
    "При этом, значения 4 и 8 - имеют тип данных str."
   ]
  },
  {
   "cell_type": "markdown",
   "metadata": {},
   "source": [
    "#### Сделала функцию, которая разбивает список на n равных частей, а остаток элементов отправляет в первый список"
   ]
  },
  {
   "cell_type": "code",
   "execution_count": 33,
   "metadata": {},
   "outputs": [],
   "source": [
    "def chunks(a, n):\n",
    "    lst = []\n",
    "    size_part = len(a)//n \n",
    "    remainder = len(a)%n\n",
    "    \n",
    "    lst.append(a[0:size_part+remainder])\n",
    "    num_part = 1\n",
    "    \n",
    "    while(num_part != n):\n",
    "        part = a[num_part*size_part+remainder : (num_part+1)*size_part+remainder]\n",
    "        lst.append(part)\n",
    "        num_part += 1\n",
    "    return lst\n"
   ]
  },
  {
   "cell_type": "code",
   "execution_count": 34,
   "metadata": {},
   "outputs": [
    {
     "name": "stdout",
     "output_type": "stream",
     "text": [
      "[[1, 2, 3], ['4', 5], [6, 7], ['8', 9]]\n"
     ]
    }
   ],
   "source": [
    "a = [1, 2, 3, '4', 5, 6, 7, '8', 9]\n",
    "n = 4\n",
    "print(chunks(a, n))"
   ]
  },
  {
   "cell_type": "markdown",
   "metadata": {},
   "source": [
    "## Часть 2: SQL\n",
    "\n",
    "### 1.Задание:\n",
    "\n",
    "Тема: Запросы на выборку данных \n",
    "\n",
    "Текст задания: Вам предоставляется схема базы данных с таблицами \"DEPARTMENT\" и \"EMPLOYEE\":\n",
    "\n",
    "**DEPARTMENT**\n",
    "\n",
    "ID | NUMBER | < pk > |\n",
    ":-: | :-: | :-: |\n",
    "NAME | VARCHAR2(100) |  |\n",
    "\n",
    "**EMPLOYEE**\n",
    "\n",
    "ID | NUMBER | < pk > | \n",
    ":-: | :-: | :-: |\n",
    "DEPARTMENT_ID | NUMBER | < fk1 > |\n",
    "CHIEF_ID | NUMBER | < fk2 > |\n",
    "NAME | VARCHAR2(100) |  |\n",
    "SALARY | NUMBER |   |\n",
    "\n",
    "Ваша задача:\n",
    "\n",
    "- Напишите SQL-запрос, который выводит список сотрудников, получающих заработную плату большую чем у непосредственного руководителя\n",
    "- Напишите SQL-запрос, который выводит список сотрудников, получающих максимальную заработную плату в своем отделе\n",
    "- Напишите SQL-запрос, который выводит список ID отделов, количество сотрудников в которых не превышает 3 человек"
   ]
  },
  {
   "cell_type": "markdown",
   "metadata": {},
   "source": [
    "#### 1) Напишите SQL-запрос, который выводит список сотрудников, получающих заработную плату большую чем у непосредственного руководителя"
   ]
  },
  {
   "cell_type": "markdown",
   "metadata": {},
   "source": [
    "SELECT * \n",
    "\n",
    "FROM employee AS employees, employee AS chieves\n",
    "\n",
    "WHERE chieves.id = employees.chief_id AND employees.salary > chieves.salary;"
   ]
  },
  {
   "cell_type": "markdown",
   "metadata": {},
   "source": [
    "#### 2) Напишите SQL-запрос, который выводит список сотрудников, получающих максимальную заработную плату в своем отделе"
   ]
  },
  {
   "cell_type": "markdown",
   "metadata": {},
   "source": [
    "SELECT *\n",
    "\n",
    "FROM employee\n",
    "\n",
    "WHERE employee.salary = \n",
    "\n",
    "                (SELECT MAX(salary) \n",
    "                \n",
    "                 FROM employee AS max_salary \n",
    "                 \n",
    "                 WHERE max_salary.department_id = employee.department_id);"
   ]
  },
  {
   "cell_type": "markdown",
   "metadata": {},
   "source": [
    "#### 3) Напишите SQL-запрос, который выводит список ID отделов, количество сотрудников в которых не превышает 3 человек"
   ]
  },
  {
   "cell_type": "markdown",
   "metadata": {},
   "source": [
    "SELECT department_id\n",
    "\n",
    "FROM employee\n",
    "\n",
    "GROUP BY department_id\n",
    "\n",
    "HAVING COUNT(NAME) <= 3;\n"
   ]
  },
  {
   "cell_type": "markdown",
   "metadata": {},
   "source": [
    "### 2.Задание:\n",
    "\n",
    "Тема: Объединение таблиц\n",
    "\n",
    "Текст задания: У вас есть следующая таблица table1:\n",
    "\n",
    "index | column1 | column2 | \n",
    ":-: | :-: | :-: |\n",
    "0 | 1 | 1 |\n",
    "1 | 1 | 1 |\n",
    "2 | 1 | 1 |\n",
    "\n",
    "Что выведет следующий запрос:\n",
    "\n",
    "```\n",
    "select *\n",
    "from table1 t1\n",
    "left join table1 t2 on t1.column1 = t2.column2\n",
    "```"
   ]
  },
  {
   "cell_type": "markdown",
   "metadata": {},
   "source": [
    "#### Запрос выведет таблицу состоящую из соединения двух таблиц t1 и t2, где каждая запись таблицы t1 соединена с каждой записью таблицы t2. В общем у нас будет 3*3 = 9 строк, 6 столбцов. \n",
    "Индексы в строках от первой и второй таблицы 0 и 0, 0 и 1, 0 и 2, 1 и 0, 1 и 1, 1 и 2, 2 и 0, 2 и 1, 2 и 2"
   ]
  },
  {
   "cell_type": "code",
   "execution_count": null,
   "metadata": {},
   "outputs": [],
   "source": []
  }
 ],
 "metadata": {
  "kernelspec": {
   "display_name": "Python 3",
   "language": "python",
   "name": "python3"
  },
  "language_info": {
   "codemirror_mode": {
    "name": "ipython",
    "version": 3
   },
   "file_extension": ".py",
   "mimetype": "text/x-python",
   "name": "python",
   "nbconvert_exporter": "python",
   "pygments_lexer": "ipython3",
   "version": "3.8.8"
  }
 },
 "nbformat": 4,
 "nbformat_minor": 2
}
